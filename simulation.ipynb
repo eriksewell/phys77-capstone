{
 "cells": [
  {
   "cell_type": "code",
   "execution_count": null,
   "metadata": {},
   "outputs": [
    {
     "name": "stdout",
     "output_type": "stream",
     "text": [
      "25\n",
      "Node 0 points [0, 1, 2, 3, 4, 5, 6, 7, 8, 9] nodeposition [0, 0] size 1 CoM [11.04848435  4.66511355]\n",
      "Node 1 points [2, 3, 8] nodeposition [-16.0, 16.0] size 2 CoM [-7.7667047  17.35107286]\n",
      "Node 2 points [0, 5, 6] nodeposition [16.0, 16.0] size 2 CoM [16.70406852 16.91354565]\n",
      "Node 3 points [] nodeposition [-16.0, -16.0] size 2 CoM None\n",
      "Node 4 points [1, 4, 7, 9] nodeposition [16.0, -16.0] size 2 CoM [ 21.08668248 -18.6011759 ]\n",
      "Node 5 points [] nodeposition [-24.0, 24.0] size 3 CoM None\n",
      "Node 6 points [2, 8] nodeposition [-8.0, 24.0] size 3 CoM [-6.98352885 20.82573684]\n",
      "Node 7 points [] nodeposition [-24.0, 8.0] size 3 CoM None\n",
      "Node 8 points [3] nodeposition [-8.0, 8.0] size 3 CoM [-9.28830968 10.60026961]\n",
      "Node 9 points [] nodeposition [-12.0, 28.0] size 4 CoM None\n",
      "Node 10 points [8] nodeposition [-4.0, 28.0] size 4 CoM [-1.19925022 25.58834738]\n",
      "Node 11 points [2] nodeposition [-12.0, 20.0] size 4 CoM [-10.85096588  17.64139916]\n",
      "Node 12 points [] nodeposition [-4.0, 20.0] size 4 CoM None\n",
      "Node 13 points [] nodeposition [8.0, 24.0] size 3 CoM None\n",
      "Node 14 points [6] nodeposition [24.0, 24.0] size 3 CoM [29.6831353  21.49147916]\n",
      "Node 15 points [0] nodeposition [8.0, 8.0] size 3 CoM [ 0.38378061 12.88405648]\n",
      "Node 16 points [5] nodeposition [24.0, 8.0] size 3 CoM [29.50343832 15.88525896]\n",
      "Node 17 points [7] nodeposition [8.0, -8.0] size 3 CoM [14.65131297 -2.76761556]\n",
      "Node 18 points [] nodeposition [24.0, -8.0] size 3 CoM None\n",
      "Node 19 points [1] nodeposition [8.0, -24.0] size 3 CoM [  1.61911852 -27.21112869]\n",
      "Node 20 points [4, 9] nodeposition [24.0, -24.0] size 3 CoM [ 24.41011503 -21.81744466]\n",
      "Node 21 points [9] nodeposition [20.0, -20.0] size 4 CoM [ 19.37127447 -21.98106431]\n",
      "Node 22 points [4] nodeposition [28.0, -20.0] size 4 CoM [ 27.74229992 -21.70924299]\n",
      "Node 23 points [] nodeposition [20.0, -28.0] size 4 CoM None\n",
      "Node 24 points [] nodeposition [28.0, -28.0] size 4 CoM None\n"
     ]
    }
   ],
   "source": [
    "import numpy as np\n",
    "from core import initialize_bodies\n",
    "from quadtree import Node\n",
    "from quadtree import Quadtree\n",
    "import matplotlib.pyplot as plt\n",
    "import matplotlib.patches as patches\n",
    "\n",
    "# initialize bodies with random masses, positions, and velocities over set range\n",
    "# bodies[n] = Body(mass, position [x, y], velocity [vx, vy])\n",
    "bodies = initialize_bodies(10, mass_range = [1, 10], position_range = [-32, 32], velocity_range = [-5, 5])\n",
    "positions = [body.position for body in bodies]\n",
    "# printing sample values\n",
    "# print(bodies[0].mass)\n",
    "# print(bodies[0].position)\n",
    "# print(bodies[0].velocity)\n",
    "# print(len(bodies))\n",
    "\n",
    "QuadTest = Quadtree(bodies, 64)\n",
    "\n",
    "# function below lists node data. You can use it for debugging\n",
    "\n",
    "for i in range(len(QuadTest.nodelist)):\n",
    "    print(f'Node {i} points {QuadTest.nodelist[i].points } nodeposition {QuadTest.nodelist[i].nodeposition} size {QuadTest.nodelist[i].size} CoM {QuadTest.nodelist[i].CoM(bodies)}')"
   ]
  },
  {
   "cell_type": "code",
   "execution_count": 22,
   "metadata": {},
   "outputs": [
    {
     "data": {
      "image/png": "[encoded data removed]",
      "text/plain": [
       "<Figure size 640x480 with 1 Axes>"
      ]
     },
     "metadata": {},
     "output_type": "display_data"
    }
   ],
   "source": [
    "# Example animation using matplotlib\n",
    "\n",
    "# %matplotlib widget\n",
    "\n",
    "# Time step for position updates\n",
    "dt = 0.1\n",
    "\n",
    "# Set up the plot\n",
    "fig, ax = plt.subplots()\n",
    "ax.set_xlim(-32, 32) # X-axis limits\n",
    "ax.set_ylim(-32, 32) # Y-axis limits\n",
    "ax.set_title(\"Particle Simulation\", color=\"black\")  # Title\n",
    "ax.set_xlabel(\"X Position\", color=\"black\")  # X-axis label\n",
    "ax.set_ylabel(\"Y Position\", color=\"black\")  # Y-axis label\n",
    "ax.tick_params(axis='x', colors=\"black\")  # X-axis ticks\n",
    "ax.tick_params(axis='y', colors=\"black\")  # Y-axis ticks\n",
    "ax.set_facecolor(\"white\")  # Set background color\n",
    "fig.patch.set_facecolor(\"lightgray\")  # Outside the plot\n",
    "\n",
    "# Create scatter plot with initial positions\n",
    "scat = ax.scatter(\n",
    "    [body.position[0] for body in bodies], # Initial x-coordinate of bodies\n",
    "    [body.position[1] for body in bodies], # Initial y-coordinate of bodies\n",
    "    s=[body.mass * 10 for body in bodies], # Size of bodies proportional to mass\n",
    "    c=\"black\",  # Color of bodies\n",
    ")\n",
    "\n",
    "pos1 = []\n",
    "pos2 = []\n",
    "for i in range(len(QuadTest.nodelist)):\n",
    "    pos1.append(QuadTest.nodelist[i].nodeposition[0])\n",
    "    pos2.append(QuadTest.nodelist[i].nodeposition[1])\n",
    "\n",
    "scat2 = ax.scatter(pos1, pos2, c='blue')\n",
    "\n",
    "for i in range(len(QuadTest.nodelist)):\n",
    "    formatcoords = [QuadTest.nodelist[i].nodeposition[0]-(64/2**(QuadTest.nodelist[i].size)), QuadTest.nodelist[i].nodeposition[1]-(64/2**(QuadTest.nodelist[i].size))]\n",
    "\n",
    "# If you want to do graphical representations of the quadtree, you need to subtract 1 from the size. It's just kind of a quirk of how i coded it. \n",
    "    Rect = patches.Rectangle(formatcoords, (64/2**(QuadTest.nodelist[i].size-1)), (64/2**(QuadTest.nodelist[i].size-1)), ec = 'black', fill =False)\n",
    "    plt.gca().add_patch(Rect)\n",
    "\n",
    "# Update function for animation\n",
    "# def update_position(frame):\n",
    "\n",
    "#     updated_positions = [] # Initialize as a list\n",
    "\n",
    "#     for body in bodies:\n",
    "#         body.position += body.velocity * dt  # Update positions\n",
    "#         updated_positions.append(body.position)  # Collect new positions\n",
    "#     scat.set_offsets(updated_positions)  # Update scatter plot\n",
    "    \n",
    "#     return scat\n",
    "\n",
    "# # Create the animation\n",
    "# ani = animation.FuncAnimation(\n",
    "#     fig=fig,\n",
    "#     func=update_position,\n",
    "#     frames=range(50),  # Number of frames\n",
    "#     interval=50,  # Time between frames in milliseconds\n",
    "#     repeat=False,  # Stop after the last frame\n",
    "# )\n",
    "\n",
    "# Show the plot\n",
    "plt.show()"
   ]
  },
  {
   "cell_type": "code",
   "execution_count": null,
   "metadata": {},
   "outputs": [],
   "source": []
  }
 ],
 "metadata": {
  "kernelspec": {
   "display_name": "Python 3",
   "language": "python",
   "name": "python3"
  },
  "language_info": {
   "codemirror_mode": {
    "name": "ipython",
    "version": 3
   },
   "file_extension": ".py",
   "mimetype": "text/x-python",
   "name": "python",
   "nbconvert_exporter": "python",
   "pygments_lexer": "ipython3",
   "version": "3.10.12"
  }
 },
 "nbformat": 4,
 "nbformat_minor": 2
}
