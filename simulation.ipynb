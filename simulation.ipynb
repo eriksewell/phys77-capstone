{
 "cells": [
  {
   "cell_type": "code",
   "execution_count": null,
   "metadata": {},
   "outputs": [
    {
     "name": "stdout",
     "output_type": "stream",
     "text": [
      "Node 0 points [0, 1] nodeposition [0, 0] size 1 CoM (array([10.44752007, 17.65089675]), 10.846044078527349)\n",
      "Node 1 points [0] nodeposition [-16.0, 16.0] size 2 CoM (array([-10.43528836,   4.08223983]), 4.414227026330911)\n",
      "Node 2 points [1] nodeposition [16.0, 16.0] size 2 CoM (array([24.77962197, 26.96321575]), 6.431817052196439)\n",
      "Node 3 points [] nodeposition [-16.0, -16.0] size 2 CoM (None, 0)\n",
      "Node 4 points [] nodeposition [16.0, -16.0] size 2 CoM (None, 0)\n"
     ]
    }
   ],
   "source": [
    "import numpy as np\n",
    "from core import initialize_bodies\n",
    "from quadtree import Node\n",
    "from quadtree import Quadtree\n",
    "import matplotlib.pyplot as plt\n",
    "import matplotlib.patches as patches\n",
    "\n",
    "# initialize bodies with random masses, positions, and velocities over set range\n",
    "# bodies[n] = Body(mass, position [x, y], velocity [vx, vy])\n",
    "bodies = initialize_bodies(2, mass_range = [1, 10], position_range = [-32, 32], velocity_range = [-5, 5])\n",
    "positions = [body.position for body in bodies]\n",
    "\n",
    "QuadTest = Quadtree(bodies, 64)\n",
    "\n",
    "# function below lists node data. You can use it for debugging\n",
    "\n",
    "for i in range(len(QuadTest.nodelist)):\n",
    "    print(f'Node {i} points {QuadTest.nodelist[i].points } nodeposition {QuadTest.nodelist[i].nodeposition} size {QuadTest.nodelist[i].size} CoM {QuadTest.nodelist[i].find_CoM(bodies)}')"
   ]
  },
  {
   "cell_type": "code",
   "execution_count": 2,
   "metadata": {},
   "outputs": [
    {
     "data": {
      "image/png": "[encoded data removed]",
      "text/plain": [
       "<Figure size 640x480 with 1 Axes>"
      ]
     },
     "metadata": {},
     "output_type": "display_data"
    }
   ],
   "source": [
    "# Example animation using matplotlib\n",
    "\n",
    "# %matplotlib widget\n",
    "\n",
    "# Time step for position updates\n",
    "dt = 0.1\n",
    "\n",
    "# Set up the plot\n",
    "fig, ax = plt.subplots()\n",
    "ax.set_xlim(-32, 32) # X-axis limits\n",
    "ax.set_ylim(-32, 32) # Y-axis limits\n",
    "ax.set_title(\"Particle Simulation\", color=\"black\")  # Title\n",
    "ax.set_xlabel(\"X Position\", color=\"black\")  # X-axis label\n",
    "ax.set_ylabel(\"Y Position\", color=\"black\")  # Y-axis label\n",
    "ax.tick_params(axis='x', colors=\"black\")  # X-axis ticks\n",
    "ax.tick_params(axis='y', colors=\"black\")  # Y-axis ticks\n",
    "ax.set_facecolor(\"white\")  # Set background color\n",
    "fig.patch.set_facecolor(\"lightgray\")  # Outside the plot\n",
    "\n",
    "# Create scatter plot with initial positions\n",
    "scat = ax.scatter(\n",
    "    [body.position[0] for body in bodies], # Initial x-coordinate of bodies\n",
    "    [body.position[1] for body in bodies], # Initial y-coordinate of bodies\n",
    "    s=[body.mass * 10 for body in bodies], # Size of bodies proportional to mass\n",
    "    c=\"black\",  # Color of bodies\n",
    ")\n",
    "\n",
    "pos1 = []\n",
    "pos2 = []\n",
    "for i in range(len(QuadTest.nodelist)):\n",
    "    pos1.append(QuadTest.nodelist[i].nodeposition[0])\n",
    "    pos2.append(QuadTest.nodelist[i].nodeposition[1])\n",
    "\n",
    "scat2 = ax.scatter(pos1, pos2, c='blue')\n",
    "\n",
    "for i in range(len(QuadTest.nodelist)):\n",
    "    formatcoords = [QuadTest.nodelist[i].nodeposition[0]-(64/2**(QuadTest.nodelist[i].size)), QuadTest.nodelist[i].nodeposition[1]-(64/2**(QuadTest.nodelist[i].size))]\n",
    "\n",
    "# If you want to do graphical representations of the quadtree, you need to subtract 1 from the size. It's just kind of a quirk of how i coded it. \n",
    "    Rect = patches.Rectangle(formatcoords, (64/2**(QuadTest.nodelist[i].size-1)), (64/2**(QuadTest.nodelist[i].size-1)), ec = 'black', fill =False)\n",
    "    plt.gca().add_patch(Rect)\n",
    "\n",
    "# Update function for animation\n",
    "# def update_position(frame):\n",
    "\n",
    "#     updated_positions = [] # Initialize as a list\n",
    "\n",
    "#     for body in bodies:\n",
    "#         body.position += body.velocity * dt  # Update positions\n",
    "#         updated_positions.append(body.position)  # Collect new positions\n",
    "#     scat.set_offsets(updated_positions)  # Update scatter plot\n",
    "    \n",
    "#     return scat\n",
    "\n",
    "# # Create the animation\n",
    "# ani = animation.FuncAnimation(\n",
    "#     fig=fig,\n",
    "#     func=update_position,\n",
    "#     frames=range(50),  # Number of frames\n",
    "#     interval=50,  # Time between frames in milliseconds\n",
    "#     repeat=False,  # Stop after the last frame\n",
    "# )\n",
    "\n",
    "# Show the plot\n",
    "plt.show()"
   ]
  },
  {
   "cell_type": "code",
   "execution_count": 3,
   "metadata": {},
   "outputs": [
    {
     "name": "stdout",
     "output_type": "stream",
     "text": [
      "Body_0 position: [-10.43528836   4.08223983]\n",
      "Body_0 mass: 4.414227026330911\n",
      "Body_1 position: [24.77962197 26.96321575]\n",
      "Body_1 mass: 6.431817052196439\n",
      "Body_0 force: [0 0]\n",
      "Body_1 force: [0 0]\n",
      "Body_0 force: [0.01345098 0.00873981]\n",
      "Body_1 force: [-0.01345098 -0.00873981]\n"
     ]
    }
   ],
   "source": [
    "# Force testing\n",
    "print(f'Body_0 position: {bodies[0].position}')\n",
    "print(f'Body_0 mass: {bodies[0].mass}')\n",
    "print(f'Body_1 position: {bodies[1].position}')\n",
    "print(f'Body_1 mass: {bodies[1].mass}')\n",
    "\n",
    "print(f'Body_0 force: {bodies[0].force}')\n",
    "print(f'Body_1 force: {bodies[1].force}')\n",
    "QuadTest.traverse_quadtree(0,0)\n",
    "QuadTest.traverse_quadtree(0,1)\n",
    "print(f'Body_0 force: {bodies[0].force}')\n",
    "print(f'Body_1 force: {bodies[1].force}')"
   ]
  },
  {
   "cell_type": "code",
   "execution_count": null,
   "metadata": {},
   "outputs": [],
   "source": []
  }
 ],
 "metadata": {
  "kernelspec": {
   "display_name": "Python 3",
   "language": "python",
   "name": "python3"
  },
  "language_info": {
   "codemirror_mode": {
    "name": "ipython",
    "version": 3
   },
   "file_extension": ".py",
   "mimetype": "text/x-python",
   "name": "python",
   "nbconvert_exporter": "python",
   "pygments_lexer": "ipython3",
   "version": "3.10.12"
  }
 },
 "nbformat": 4,
 "nbformat_minor": 2
}
