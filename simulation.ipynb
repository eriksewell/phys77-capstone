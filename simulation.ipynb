{
 "cells": [
  {
   "cell_type": "code",
   "execution_count": null,
   "metadata": {},
   "outputs": [],
   "source": [
    "from core import initialize_bodies\n",
    "from core import calculate_force\n",
    "from core import Body\n",
    "import numpy as np\n",
    "import matplotlib.pyplot as plt\n",
    "from matplotlib import animation\n",
    "from matplotlib import colormaps"
   ]
  },
  {
   "cell_type": "code",
   "execution_count": null,
   "metadata": {},
   "outputs": [],
   "source": [
    "# initialize bodies with random masses, positions, and velocities over set range\n",
    "# bodies[n] = Body(mass, position [x, y], velocity [vx, vy])\n",
    "bodies = initialize_bodies(30, mass_range = [0.1, 1], position_range = [-32, 32], velocity_range = [-0.01, 0.01])\n",
    "\n",
    "# using dimensionless units in terms of solar masses, AU\n",
    "\n",
    "# solar system\n",
    "'''bodies = [\n",
    "    Body(mass = 1, position=[0, 0], velocity=[0, 0]), # sun\n",
    "    Body(mass = 3.00e-6, position=[1, 0], velocity=[0, 1]), # earth\n",
    "    Body(mass = 3.21e-7, position=[1.5, 0], velocity=[0, np.sqrt(1/1.5)]), # mars\n",
    "    Body(mass = 9.55e-4, position=[5.2, 0], velocity=[0, np.sqrt(1/5.2)]), # jupiter\n",
    "    Body(mass = 2.86e-4, position=[9.5, 0], velocity=[0, np.sqrt(1/9.5)]), # saturn\n",
    "    Body(mass = 4.36e-5, position=[19.2, 0], velocity=[0, np.sqrt(1/19.2)]), # uranus\n",
    "    Body(mass = 5.15e-5, position=[30.1, 0], velocity=[0, np.sqrt(1/30.1)]) # neptune\n",
    "]'''\n",
    "\n",
    "# binary star system\n",
    "'''bodies = [\n",
    "    Body(mass = 2, position = [0, 10], velocity = [-0.1, 0]), # star_1\n",
    "    Body(mass = 1, position = [0, -10], velocity = [0.1, 0]) # star_2\n",
    "]'''"
   ]
  },
  {
   "cell_type": "code",
   "execution_count": null,
   "metadata": {},
   "outputs": [],
   "source": [
    "# Animation using matplotlib\n",
    "\n",
    "%matplotlib widget\n",
    "\n",
    "# Time step for position updates\n",
    "dt = 0.1\n",
    "\n",
    "# Set up the plot\n",
    "#fig, ax = plt.subplots()\n",
    "fig, ax = plt.subplots(figsize=(19.2, 10.8), dpi=100)\n",
    "ax.set_xlim(-32, 32) # X-axis limits\n",
    "ax.set_ylim(-32, 32) # Y-axis limits\n",
    "ax.set_title(\"Particle Simulation\", color=\"black\")  # Title\n",
    "ax.set_xlabel(\"X Position\", color=\"black\")  # X-axis label\n",
    "ax.set_ylabel(\"Y Position\", color=\"black\")  # Y-axis label\n",
    "ax.tick_params(axis='x', colors=\"black\")  # X-axis ticks\n",
    "ax.tick_params(axis='y', colors=\"black\")  # Y-axis ticks\n",
    "ax.set_facecolor(\"black\")  # Set background color\n",
    "fig.patch.set_facecolor(\"lightgray\")  # Outside the plot\n",
    "ax.grid(color=\"gray\", linestyle=\"--\", linewidth=0.5, alpha=0.5)\n",
    "\n",
    "#cmap = colormaps[\"tab20\"].resampled(len(bodies))  # Dynamically resample colormap\n",
    "#colors = [cmap(i) for i in range(len(bodies))] # Create list of colors\n",
    "colors = ['yellow', 'blue', 'red', 'orange', 'goldenrod', 'lightblue', 'mediumblue'] # planet colors\n",
    "\n",
    "# Create scatter plot with initial positions\n",
    "scat = ax.scatter(\n",
    "    [body.position[0] for body in bodies], # Initial x-coordinate of bodies\n",
    "    [body.position[1] for body in bodies], # Initial y-coordinate of bodies\n",
    "    s = [50*(body.mass)**(1/3) for body in bodies], # Size of bodies proportional to mass\n",
    "    c = 'yellow',  # Color of bodies\n",
    ")\n",
    "\n",
    "# Update function for animation\n",
    "def update_position(frame):\n",
    "\n",
    "    for n, body in enumerate(bodies):\n",
    "\n",
    "        F = calculate_force(bodies) # calculate net force on bodies\n",
    "\n",
    "        # Leapfrog method\n",
    "        body.velocity += 0.5 * F[n] / body.mass * dt # Update velocity (half step)\n",
    "        body.position += body.velocity * dt # Update position (full step)\n",
    "        F = calculate_force(bodies) # Recalculate force\n",
    "        body.velocity += 0.5 * F[n] / body.mass * dt # Update velocity (second half step)\n",
    "        positions = [body.position for body in bodies] # Create array of positions to update scatter plot\n",
    "    scat.set_offsets(positions)  # Update scatter plot\n",
    "  \n",
    "    return scat\n",
    "\n",
    "# Create the animation\n",
    "ani = animation.FuncAnimation(\n",
    "    fig=fig,\n",
    "    func=update_position,\n",
    "    frames=range(1000),  # Number of frames\n",
    "    interval=1,  # Time between frames in milliseconds\n",
    "    repeat=False,  # Stop after the last frame\n",
    ")\n",
    "\n",
    "ani.save('direct_simulation.mp4', writer='ffmpeg', fps=30) # Save animation as .mp4\n",
    "\n",
    "# Show the plot\n",
    "plt.show()"
   ]
  },
  {
   "cell_type": "code",
   "execution_count": null,
   "metadata": {},
   "outputs": [],
   "source": [
    "F = calculate_force(bodies)\n",
    "\n",
    "for i, body in enumerate(bodies):\n",
    "    print(f'Net foce on body_{i} Fx = {F[i,0]} Fy = {F[i,1]})')"
   ]
  },
  {
   "cell_type": "code",
   "execution_count": null,
   "metadata": {},
   "outputs": [],
   "source": [
    "print(bodies[0].position[0])"
   ]
  },
  {
   "cell_type": "code",
   "execution_count": null,
   "metadata": {},
   "outputs": [],
   "source": [
    "sim_data =[(34.0,5), (36.6,10), (46.9,15), (66.1,20), (99.1,25), (146.4,30)]"
   ]
  }
 ],
 "metadata": {
  "kernelspec": {
   "display_name": "Python 3",
   "language": "python",
   "name": "python3"
  },
  "language_info": {
   "codemirror_mode": {
    "name": "ipython",
    "version": 3
   },
   "file_extension": ".py",
   "mimetype": "text/x-python",
   "name": "python",
   "nbconvert_exporter": "python",
   "pygments_lexer": "ipython3",
   "version": "3.10.12"
  }
 },
 "nbformat": 4,
 "nbformat_minor": 2
}
