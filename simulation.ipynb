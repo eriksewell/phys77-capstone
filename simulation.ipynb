{
 "cells": [
  {
   "cell_type": "code",
   "execution_count": null,
   "metadata": {},
   "outputs": [],
   "source": [
    "from core import initialize_bodies\n",
    "from \n",
    "import numpy as np\n",
    "# import matplotlib.pyplot as plt\n",
    "# from matplotlib import animation"
   ]
  },
  {
   "cell_type": "code",
   "execution_count": 1,
   "metadata": {},
   "outputs": [
    {
     "name": "stdout",
     "output_type": "stream",
     "text": [
      "[array([-0.26578956, -0.34114584]), array([17.20780148, 23.04132874]), array([-19.36970751, -15.94282974]), array([-11.88344185,  -4.19934189]), array([10.30865295, 21.23743464])]\n",
      "subdivide bodies is[<core.Body object at 0x000002101AE34B50>, <core.Body object at 0x000002101AE55AD0>, <core.Body object at 0x000002101A868A10>, <core.Body object at 0x000002104957D510>, <core.Body object at 0x000002104957EC50>]\n",
      "points in node[0, 1, 2, 3, 4]\n",
      "points in node[0, 1, 2, 3, 4]\n",
      "points in node[0, 1, 2, 3, 4]\n",
      "points in node[0, 1, 2, 3, 4]\n",
      "points in node[0, 1, 2, 3, 4]\n",
      "quad1bodies[<core.Body object at 0x000002101AE55AD0>, <core.Body object at 0x000002104957EC50>]\n",
      "quad2bodies[]\n",
      "quad3bodies[]\n",
      "quad4bodies[<core.Body object at 0x000002101AE34B50>, <core.Body object at 0x000002101A868A10>, <core.Body object at 0x000002104957D510>]\n",
      "new node quad 1<quadtree.Node object at 0x000002101AFC2A10>\n",
      "new node quad 2<quadtree.Node object at 0x000002104957D910>\n",
      "new node quad 3<quadtree.Node object at 0x000002104957DCD0>\n",
      "new node quad 4<quadtree.Node object at 0x000002104957EED0>\n",
      "subdivide bodies is[1, 4]\n",
      "points in node[1, 4]\n"
     ]
    },
    {
     "ename": "AttributeError",
     "evalue": "'int' object has no attribute 'position'",
     "output_type": "error",
     "traceback": [
      "\u001b[1;31m---------------------------------------------------------------------------\u001b[0m",
      "\u001b[1;31mAttributeError\u001b[0m                            Traceback (most recent call last)",
      "Cell \u001b[1;32mIn[1], line 22\u001b[0m\n\u001b[0;32m     10\u001b[0m \u001b[38;5;28mprint\u001b[39m(positions)\n\u001b[0;32m     11\u001b[0m \u001b[38;5;66;03m# printing sample values\u001b[39;00m\n\u001b[0;32m     12\u001b[0m \u001b[38;5;66;03m# print(bodies[0].mass)\u001b[39;00m\n\u001b[0;32m     13\u001b[0m \u001b[38;5;66;03m# print(bodies[0].position)\u001b[39;00m\n\u001b[1;32m   (...)\u001b[0m\n\u001b[0;32m     19\u001b[0m \n\u001b[0;32m     20\u001b[0m \u001b[38;5;66;03m# print([body.position for body in bodies])\u001b[39;00m\n\u001b[1;32m---> 22\u001b[0m QuadTest \u001b[38;5;241m=\u001b[39m \u001b[43mQuadtree\u001b[49m\u001b[43m(\u001b[49m\u001b[43mbodies\u001b[49m\u001b[43m,\u001b[49m\u001b[43m \u001b[49m\u001b[38;5;241;43m50\u001b[39;49m\u001b[43m)\u001b[49m\n\u001b[0;32m     23\u001b[0m \u001b[38;5;28mprint\u001b[39m(Quadtest\u001b[38;5;241m.\u001b[39mnodelist)\n",
      "File \u001b[1;32mc:\\Users\\micah\\Documents\\GitHub\\phys77-capstone\\quadtree.py:112\u001b[0m, in \u001b[0;36mQuadtree.__init__\u001b[1;34m(self, bodies, simsize)\u001b[0m\n\u001b[0;32m    109\u001b[0m \u001b[38;5;28mself\u001b[39m\u001b[38;5;241m.\u001b[39msimsize \u001b[38;5;241m=\u001b[39m simsize\n\u001b[0;32m    110\u001b[0m \u001b[38;5;28mself\u001b[39m\u001b[38;5;241m.\u001b[39mnodelist \u001b[38;5;241m=\u001b[39m [Node(\u001b[38;5;28mlist\u001b[39m(\u001b[38;5;28mrange\u001b[39m(\u001b[38;5;28mlen\u001b[39m(bodies))), [\u001b[38;5;241m0\u001b[39m, \u001b[38;5;241m0\u001b[39m], \u001b[38;5;241m0\u001b[39m)]\n\u001b[1;32m--> 112\u001b[0m \u001b[38;5;28;43mself\u001b[39;49m\u001b[38;5;241;43m.\u001b[39;49m\u001b[43mnodelist\u001b[49m\u001b[43m[\u001b[49m\u001b[38;5;241;43m0\u001b[39;49m\u001b[43m]\u001b[49m\u001b[38;5;241;43m.\u001b[39;49m\u001b[43mcheckQuad\u001b[49m\u001b[43m(\u001b[49m\u001b[38;5;28;43mself\u001b[39;49m\u001b[38;5;241;43m.\u001b[39;49m\u001b[43mbodies\u001b[49m\u001b[43m,\u001b[49m\u001b[43m \u001b[49m\u001b[38;5;28;43mself\u001b[39;49m\u001b[38;5;241;43m.\u001b[39;49m\u001b[43mnodelist\u001b[49m\u001b[43m,\u001b[49m\u001b[43m \u001b[49m\u001b[38;5;28;43mself\u001b[39;49m\u001b[38;5;241;43m.\u001b[39;49m\u001b[43msimsize\u001b[49m\u001b[43m)\u001b[49m\n",
      "File \u001b[1;32mc:\\Users\\micah\\Documents\\GitHub\\phys77-capstone\\quadtree.py:91\u001b[0m, in \u001b[0;36mNode.checkQuad\u001b[1;34m(self, bodies, nodelist, simsize)\u001b[0m\n\u001b[0;32m     88\u001b[0m \u001b[38;5;28mprint\u001b[39m(\u001b[38;5;124m'\u001b[39m\u001b[38;5;124mnew node quad 3\u001b[39m\u001b[38;5;124m'\u001b[39m\u001b[38;5;241m+\u001b[39m\u001b[38;5;28mstr\u001b[39m(nodelist[\u001b[38;5;28mself\u001b[39m\u001b[38;5;241m.\u001b[39mquad3]))\n\u001b[0;32m     89\u001b[0m \u001b[38;5;28mprint\u001b[39m(\u001b[38;5;124m'\u001b[39m\u001b[38;5;124mnew node quad 4\u001b[39m\u001b[38;5;124m'\u001b[39m\u001b[38;5;241m+\u001b[39m\u001b[38;5;28mstr\u001b[39m(nodelist[\u001b[38;5;28mself\u001b[39m\u001b[38;5;241m.\u001b[39mquad4]))\n\u001b[1;32m---> 91\u001b[0m \u001b[43mnodelist\u001b[49m\u001b[43m[\u001b[49m\u001b[38;5;28;43mself\u001b[39;49m\u001b[38;5;241;43m.\u001b[39;49m\u001b[43mquad1\u001b[49m\u001b[43m]\u001b[49m\u001b[38;5;241;43m.\u001b[39;49m\u001b[43mcheckQuad\u001b[49m\u001b[43m(\u001b[49m\u001b[43mnodelist\u001b[49m\u001b[43m[\u001b[49m\u001b[38;5;28;43mself\u001b[39;49m\u001b[38;5;241;43m.\u001b[39;49m\u001b[43mquad1\u001b[49m\u001b[43m]\u001b[49m\u001b[38;5;241;43m.\u001b[39;49m\u001b[43mpoints\u001b[49m\u001b[43m,\u001b[49m\u001b[43m \u001b[49m\u001b[43mnodelist\u001b[49m\u001b[43m,\u001b[49m\u001b[43m \u001b[49m\u001b[43msimsize\u001b[49m\u001b[43m)\u001b[49m\n\u001b[0;32m     92\u001b[0m nodelist[\u001b[38;5;28mself\u001b[39m\u001b[38;5;241m.\u001b[39mquad2]\u001b[38;5;241m.\u001b[39mcheckQuad(nodelist[\u001b[38;5;28mself\u001b[39m\u001b[38;5;241m.\u001b[39mquad2]\u001b[38;5;241m.\u001b[39mpoints, nodelist, simsize)\n\u001b[0;32m     93\u001b[0m nodelist[\u001b[38;5;28mself\u001b[39m\u001b[38;5;241m.\u001b[39mquad3]\u001b[38;5;241m.\u001b[39mcheckQuad(nodelist[\u001b[38;5;28mself\u001b[39m\u001b[38;5;241m.\u001b[39mquad3]\u001b[38;5;241m.\u001b[39mpoints, nodelist, simsize)\n",
      "File \u001b[1;32mc:\\Users\\micah\\Documents\\GitHub\\phys77-capstone\\quadtree.py:85\u001b[0m, in \u001b[0;36mNode.checkQuad\u001b[1;34m(self, bodies, nodelist, simsize)\u001b[0m\n\u001b[0;32m     82\u001b[0m     \u001b[38;5;28;01mreturn\u001b[39;00m\n\u001b[0;32m     84\u001b[0m \u001b[38;5;28;01mif\u001b[39;00m \u001b[38;5;28mlen\u001b[39m(\u001b[38;5;28mself\u001b[39m\u001b[38;5;241m.\u001b[39mpoints) \u001b[38;5;241m>\u001b[39m \u001b[38;5;241m0\u001b[39m:\n\u001b[1;32m---> 85\u001b[0m     \u001b[38;5;28;43mself\u001b[39;49m\u001b[38;5;241;43m.\u001b[39;49m\u001b[43msubdivide\u001b[49m\u001b[43m(\u001b[49m\u001b[43mbodies\u001b[49m\u001b[43m,\u001b[49m\u001b[43m \u001b[49m\u001b[43mnodelist\u001b[49m\u001b[43m,\u001b[49m\u001b[43m \u001b[49m\u001b[43msimsize\u001b[49m\u001b[43m)\u001b[49m\n\u001b[0;32m     86\u001b[0m     \u001b[38;5;28mprint\u001b[39m(\u001b[38;5;124m'\u001b[39m\u001b[38;5;124mnew node quad 1\u001b[39m\u001b[38;5;124m'\u001b[39m\u001b[38;5;241m+\u001b[39m\u001b[38;5;28mstr\u001b[39m(nodelist[\u001b[38;5;28mself\u001b[39m\u001b[38;5;241m.\u001b[39mquad1]))\n\u001b[0;32m     87\u001b[0m     \u001b[38;5;28mprint\u001b[39m(\u001b[38;5;124m'\u001b[39m\u001b[38;5;124mnew node quad 2\u001b[39m\u001b[38;5;124m'\u001b[39m\u001b[38;5;241m+\u001b[39m\u001b[38;5;28mstr\u001b[39m(nodelist[\u001b[38;5;28mself\u001b[39m\u001b[38;5;241m.\u001b[39mquad2]))\n",
      "File \u001b[1;32mc:\\Users\\micah\\Documents\\GitHub\\phys77-capstone\\quadtree.py:47\u001b[0m, in \u001b[0;36mNode.subdivide\u001b[1;34m(self, bodies, nodelist, simsize)\u001b[0m\n\u001b[0;32m     45\u001b[0m \u001b[38;5;28;01mfor\u001b[39;00m i \u001b[38;5;129;01min\u001b[39;00m \u001b[38;5;28mself\u001b[39m\u001b[38;5;241m.\u001b[39mpoints:\n\u001b[0;32m     46\u001b[0m     \u001b[38;5;28mprint\u001b[39m(\u001b[38;5;124m'\u001b[39m\u001b[38;5;124mpoints in node\u001b[39m\u001b[38;5;124m'\u001b[39m \u001b[38;5;241m+\u001b[39m \u001b[38;5;28mstr\u001b[39m(\u001b[38;5;28mself\u001b[39m\u001b[38;5;241m.\u001b[39mpoints))\n\u001b[1;32m---> 47\u001b[0m     \u001b[38;5;28;01mif\u001b[39;00m  \u001b[43mbodies\u001b[49m\u001b[43m[\u001b[49m\u001b[43mi\u001b[49m\u001b[43m]\u001b[49m\u001b[38;5;241;43m.\u001b[39;49m\u001b[43mposition\u001b[49m[\u001b[38;5;241m0\u001b[39m] \u001b[38;5;241m>\u001b[39m\u001b[38;5;241m=\u001b[39m \u001b[38;5;28mself\u001b[39m\u001b[38;5;241m.\u001b[39mnodeposition[\u001b[38;5;241m0\u001b[39m]:\n\u001b[0;32m     48\u001b[0m         \u001b[38;5;28;01mif\u001b[39;00m bodies[i]\u001b[38;5;241m.\u001b[39mposition[\u001b[38;5;241m1\u001b[39m] \u001b[38;5;241m>\u001b[39m\u001b[38;5;241m=\u001b[39m \u001b[38;5;28mself\u001b[39m\u001b[38;5;241m.\u001b[39mnodeposition[\u001b[38;5;241m1\u001b[39m]:\n\u001b[0;32m     49\u001b[0m             quad1points\u001b[38;5;241m.\u001b[39mappend(i)\n",
      "\u001b[1;31mAttributeError\u001b[0m: 'int' object has no attribute 'position'"
     ]
    }
   ],
   "source": [
    "import numpy as np\n",
    "from core import initialize_bodies\n",
    "from quadtree import Node\n",
    "from quadtree import Quadtree\n",
    "\n",
    "# initialize bodies with random masses, positions, and velocities over set range\n",
    "# bodies[n] = Body(mass, position [x, y], velocity [vx, vy])\n",
    "bodies = initialize_bodies(5, mass_range = [1, 10], position_range = [-25, 25], velocity_range = [-5, 5])\n",
    "positions = [body.position for body in bodies]\n",
    "print(positions)\n",
    "# printing sample values\n",
    "# print(bodies[0].mass)\n",
    "# print(bodies[0].position)\n",
    "# print(bodies[0].velocity)\n",
    "# print(len(bodies))\n",
    "\n",
    "# last resort below. Had to format it like this bc I had no idea how to utilize it otherwise. feel free to make it work with the class itself\n",
    "# formatbodies = [[body.mass for body in bodies], [[body.position[0] for body in bodies], [body.position[1] for body in bodies]], [body.velocity for body in bodies]]\n",
    "\n",
    "# print([body.position for body in bodies])\n",
    "\n",
    "QuadTest = Quadtree(bodies, 50)\n",
    "print(Quadtest.nodelist)"
   ]
  },
  {
   "cell_type": "code",
   "execution_count": null,
   "metadata": {},
   "outputs": [],
   "source": [
    "# Example animation using matplotlib\n",
    "\n",
    "%matplotlib widget\n",
    "\n",
    "# Time step for position updates\n",
    "dt = 0.1\n",
    "\n",
    "# Set up the plot\n",
    "fig, ax = plt.subplots()\n",
    "ax.set_xlim(-30, 30) # X-axis limits\n",
    "ax.set_ylim(-30, 30) # Y-axis limits\n",
    "ax.set_title(\"Particle Simulation\", color=\"black\")  # Title\n",
    "ax.set_xlabel(\"X Position\", color=\"black\")  # X-axis label\n",
    "ax.set_ylabel(\"Y Position\", color=\"black\")  # Y-axis label\n",
    "ax.tick_params(axis='x', colors=\"black\")  # X-axis ticks\n",
    "ax.tick_params(axis='y', colors=\"black\")  # Y-axis ticks\n",
    "ax.set_facecolor(\"black\")  # Set background color\n",
    "fig.patch.set_facecolor(\"lightgray\")  # Outside the plot\n",
    "\n",
    "# Create scatter plot with initial positions\n",
    "scat = ax.scatter(\n",
    "    [body.position[0] for body in bodies], # Initial x-coordinate of bodies\n",
    "    [body.position[1] for body in bodies], # Initial y-coordinate of bodies\n",
    "    s=[body.mass * 10 for body in bodies], # Size of bodies proportional to mass\n",
    "    c=\"yellow\",  # Color of bodies\n",
    ")\n",
    "\n",
    "# Update function for animation\n",
    "def update_position(frame):\n",
    "\n",
    "    updated_positions = [] # Initialize as a list\n",
    "\n",
    "    for body in bodies:\n",
    "        body.position += body.velocity * dt  # Update positions\n",
    "        updated_positions.append(body.position)  # Collect new positions\n",
    "    scat.set_offsets(updated_positions)  # Update scatter plot\n",
    "    \n",
    "    return scat\n",
    "\n",
    "# Create the animation\n",
    "ani = animation.FuncAnimation(\n",
    "    fig=fig,\n",
    "    func=update_position,\n",
    "    frames=range(50),  # Number of frames\n",
    "    interval=50,  # Time between frames in milliseconds\n",
    "    repeat=False,  # Stop after the last frame\n",
    ")\n",
    "\n",
    "# Show the plot\n",
    "plt.show()"
   ]
  },
  {
   "cell_type": "code",
   "execution_count": null,
   "metadata": {},
   "outputs": [],
   "source": [
    "# import numpy as np\n",
    "# from quadtree import Node\n",
    "# from quadtree import Quadtree\n",
    "\n",
    "\n",
    "\n",
    "# # Testing Quadtree\n"
   ]
  },
  {
   "cell_type": "code",
   "execution_count": null,
   "metadata": {},
   "outputs": [],
   "source": []
  }
 ],
 "metadata": {
  "kernelspec": {
   "display_name": "Python 3",
   "language": "python",
   "name": "python3"
  },
  "language_info": {
   "codemirror_mode": {
    "name": "ipython",
    "version": 3
   },
   "file_extension": ".py",
   "mimetype": "text/x-python",
   "name": "python",
   "nbconvert_exporter": "python",
   "pygments_lexer": "ipython3",
   "version": "3.11.9"
  }
 },
 "nbformat": 4,
 "nbformat_minor": 2
}
