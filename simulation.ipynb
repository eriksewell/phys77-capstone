{
 "cells": [
  {
   "cell_type": "code",
   "execution_count": 2,
   "metadata": {},
   "outputs": [
    {
     "data": {
      "text/plain": [
       "\"\\n# print node data\\nfor i in range(len(QuadTest.nodelist)):\\n    print(f'Node {i} points {QuadTest.nodelist[i].points } nodeposition {QuadTest.nodelist[i].nodeposition} size {QuadTest.nodelist[i].size} CoM {QuadTest.nodelist[i].find_CoM(bodies)}')\\n\""
      ]
     },
     "execution_count": 2,
     "metadata": {},
     "output_type": "execute_result"
    }
   ],
   "source": [
    "import numpy as np\n",
    "from core import initialize_bodies\n",
    "from core import Body\n",
    "from quadtree import Node\n",
    "from quadtree import Quadtree\n",
    "import matplotlib.pyplot as plt\n",
    "import matplotlib.patches as patches\n",
    "from matplotlib import animation\n",
    "\n",
    "# initialize bodies with random masses, positions, and velocities over set range\n",
    "# bodies[n] = Body(mass, position [x, y], velocity [vx, vy])\n",
    "bodies = initialize_bodies(25, mass_range = [0.1, 1], position_range = [-32, 32], velocity_range = [-0.01,0.01])\n",
    "\n",
    "\n",
    "# using dimensionless units in terms of solar masses, AU\n",
    "\n",
    "# solar system\n",
    "'''bodies = [\n",
    "    Body(mass = 1, position=[0, 0], velocity=[0, 0]), # sun\n",
    "    Body(mass = 3.00e-6, position=[1, 0], velocity=[0, 1]), # earth\n",
    "    Body(mass = 3.21e-7, position=[1.5, 0], velocity=[0, np.sqrt(1/1.5)]), # mars\n",
    "    Body(mass = 9.55e-4, position=[5.2, 0], velocity=[0, np.sqrt(1/5.2)]), # jupiter\n",
    "    Body(mass = 2.86e-4, position=[9.5, 0], velocity=[0, np.sqrt(1/9.5)]), # saturn\n",
    "    Body(mass = 4.36e-5, position=[19.2, 0], velocity=[0, np.sqrt(1/19.2)]), # uranus\n",
    "    Body(mass = 5.15e-5, position=[30.1, 0], velocity=[0, np.sqrt(1/30.1)]) # neptune\n",
    "]'''\n",
    "\n",
    "\n",
    "\n",
    "\n",
    "#QuadTest = Quadtree(bodies, 64)\n",
    "\n",
    "'''\n",
    "# print node data\n",
    "for i in range(len(QuadTest.nodelist)):\n",
    "    print(f'Node {i} points {QuadTest.nodelist[i].points } nodeposition {QuadTest.nodelist[i].nodeposition} size {QuadTest.nodelist[i].size} CoM {QuadTest.nodelist[i].find_CoM(bodies)}')\n",
    "'''"
   ]
  },
  {
   "cell_type": "code",
   "execution_count": null,
   "metadata": {},
   "outputs": [],
   "source": [
    "# Example animation using matplotlib\n",
    "\n",
    "%matplotlib widget\n",
    "\n",
    "# Time step for position updates\n",
    "dt = 0.1\n",
    "\n",
    "# Set up the plot\n",
    "fig, ax = plt.subplots(figsize=(19.2, 10.8), dpi=100)\n",
    "#fig, ax = plt.subplots()\n",
    "ax.set_xlim(-32, 32) # X-axis limits\n",
    "ax.set_ylim(-32, 32) # Y-axis limits\n",
    "ax.set_title(f'Approximate Gravity Simulation N = {len(bodies)}', color=\"black\")  # Title\n",
    "ax.set_xlabel(\"X Position\", color=\"black\")  # X-axis label\n",
    "ax.set_ylabel(\"Y Position\", color=\"black\")  # Y-axis label\n",
    "ax.tick_params(axis='x', colors=\"black\")  # X-axis ticks\n",
    "ax.tick_params(axis='y', colors=\"black\")  # Y-axis ticks\n",
    "ax.set_facecolor(\"black\")  # Set background color\n",
    "fig.patch.set_facecolor(\"lightgray\")  # Outside the plot\n",
    "ax.grid(color=\"gray\", linestyle=\"--\", linewidth=0.5, alpha=0.5)\n",
    "\n",
    "#colors = [cmap(i) for i in range(len(bodies))] # Create list of colors\n",
    "colors = ['yellow', 'blue', 'red', 'orange', 'goldenrod', 'lightblue', 'mediumblue'] # planet colors\n",
    "\n",
    "# Create scatter plot with initial positions\n",
    "scat = ax.scatter(\n",
    "    [body.position[0] for body in bodies], # Initial x-coordinate of bodies\n",
    "    [body.position[1] for body in bodies], # Initial y-coordinate of bodies\n",
    "    s=[50*(body.mass)**(1/3) for body in bodies], # Size of bodies proportional to mass\n",
    "    c='yellow',  # Color of bodies\n",
    ")\n",
    "# Plot node markers\n",
    "'''\n",
    "pos1 = []\n",
    "pos2 = []\n",
    "for i in range(len(QuadTest.nodelist)):\n",
    "    pos1.append(QuadTest.nodelist[i].nodeposition[0])\n",
    "    pos2.append(QuadTest.nodelist[i].nodeposition[1])\n",
    "\n",
    "scat2 = ax.scatter(pos1, pos2, c='blue')'''\n",
    "'''\n",
    "# Draw quadtree\n",
    "for i in range(len(QuadTest.nodelist)):\n",
    "    formatcoords = [QuadTest.nodelist[i].nodeposition[0]-(64/2**(QuadTest.nodelist[i].size)), QuadTest.nodelist[i].nodeposition[1]-(64/2**(QuadTest.nodelist[i].size))]\n",
    "\n",
    "# If you want to do graphical representations of the quadtree, you need to subtract 1 from the size. It's just kind of a quirk of how i coded it. \n",
    "    Rect = patches.Rectangle(formatcoords, (64/2**(QuadTest.nodelist[i].size-1)), (64/2**(QuadTest.nodelist[i].size-1)), ec = 'black', fill =False)\n",
    "    plt.gca().add_patch(Rect)\n",
    "'''\n",
    "\n",
    "# Update function for animation\n",
    "def update_position(frame):\n",
    "\n",
    "    for n, body in enumerate(bodies):\n",
    "\n",
    "        global QuadTest\n",
    "        QuadTest = Quadtree(bodies, 64)\n",
    "        body.force = np.array([0.0, 0.0]) # Reset force on body\n",
    "        QuadTest.traverse_quadtree(0,n) # Calculate forces\n",
    "\n",
    "        # Leapfrog method\n",
    "        body.velocity += 0.5 * body.force / body.mass * dt # Update velocity (half step)\n",
    "        body.position += body.velocity * dt # Update position (full step)\n",
    "        QuadTest.traverse_quadtree(0,n) # Recalculate force\n",
    "        body.velocity += 0.5 * body.force / body.mass * dt # Update velocity (second half step)\n",
    "        positions = [body.position for body in bodies] # Create array of positions to update scatter plot\n",
    "        body.force = np.array([0.0, 0.0]) # Reset force on body\n",
    "    scat.set_offsets(positions)  # Update scatter plot\n",
    "  \n",
    "    return scat\n",
    "\n",
    "\n",
    " # Create the animation\n",
    "ani = animation.FuncAnimation(\n",
    "    fig=fig,\n",
    "    func=update_position,\n",
    "    frames=range(1000),  # Number of frames\n",
    "    interval=10,  # Time between frames in milliseconds\n",
    "    repeat=False,  # Stop after the last frame\n",
    ")\n",
    "\n",
    "ani.save('approximate_simulation_10body.mp4', writer='ffmpeg', fps=30) # Save animation as .mp4\n",
    "\n",
    "\n",
    "# Show the plot\n",
    "plt.show()"
   ]
  },
  {
   "cell_type": "code",
   "execution_count": null,
   "metadata": {},
   "outputs": [],
   "source": [
    "for i, body in enumerate(bodies):\n",
    "    QuadTest.traverse_quadtree(0,i)\n",
    "    print(f'Body_{i} position: {body.position}')\n",
    "    print(f'Body_{i} mass: {body.mass}')\n",
    "    print(f'Body_{i} force: {body.force}')"
   ]
  },
  {
   "cell_type": "code",
   "execution_count": null,
   "metadata": {},
   "outputs": [],
   "source": [
    "print(f'Number of nodes: {len(QuadTest.nodelist)}')"
   ]
  },
  {
   "cell_type": "code",
   "execution_count": 19,
   "metadata": {},
   "outputs": [
    {
     "data": {
      "image/png": "[encoded data removed]",
      "text/plain": [
       "<Figure size 640x480 with 1 Axes>"
      ]
     },
     "metadata": {},
     "output_type": "display_data"
    }
   ],
   "source": [
    "# sim_data = [(sim_runtime, num_bodies)]\n",
    "sim_data = [(32.9,5), (35.9,10), (39.3,15), (43.2,20), (50.3,25)]\n",
    "sim_time = [sim[0] for sim in sim_data]\n",
    "sim_body = [sim[1] for sim in sim_data]\n",
    "\n",
    "N = np.arange(1, 26, 1)\n",
    "\n",
    "def theoretical_simtime(N):\n",
    "    run_time = N * np.log2(N) * 0.16 + 30\n",
    "    return run_time\n",
    "\n",
    "def direct_theory_simtime(N):\n",
    "    direct_time = N * (N - 1)/2 * 0.16 + 30\n",
    "    return direct_time\n",
    "\n",
    "plt.clf()\n",
    "plt.close('all')\n",
    "plt.scatter(sim_body, sim_time)\n",
    "plt.plot(N, theoretical_simtime(N), color = 'red', label = 'Nlog2(N)')\n",
    "plt.plot(N, direct_theory_simtime(N), color = 'green', label = 'N(N-1)/2')\n",
    "plt.legend()\n",
    "plt.show()"
   ]
  },
  {
   "cell_type": "code",
   "execution_count": null,
   "metadata": {},
   "outputs": [],
   "source": []
  }
 ],
 "metadata": {
  "kernelspec": {
   "display_name": "Python 3",
   "language": "python",
   "name": "python3"
  },
  "language_info": {
   "codemirror_mode": {
    "name": "ipython",
    "version": 3
   },
   "file_extension": ".py",
   "mimetype": "text/x-python",
   "name": "python",
   "nbconvert_exporter": "python",
   "pygments_lexer": "ipython3",
   "version": "3.10.12"
  }
 },
 "nbformat": 4,
 "nbformat_minor": 2
}
