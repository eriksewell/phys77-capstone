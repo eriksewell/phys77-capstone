{
 "cells": [
  {
   "cell_type": "code",
   "execution_count": 1,
   "metadata": {},
   "outputs": [
    {
     "name": "stdout",
     "output_type": "stream",
     "text": [
      "[array([1.89456373, 8.66922366]), array([-9.35539414, 24.44982901]), array([ 7.21686116, -4.86973123]), array([26.32471606, 20.60832955]), array([-17.09546526, -19.11113066])]\n",
      "points [0, 1, 2, 3, 4] nodeposition [0, 0]size 0\n",
      "points [1] nodeposition [-32.0, 32.0]size 1\n",
      "points [0, 3] nodeposition [32.0, 32.0]size 1\n",
      "points [4] nodeposition [-32.0, -32.0]size 1\n",
      "points [2] nodeposition [32.0, -32.0]size 1\n",
      "points [] nodeposition [16.0, 48.0]size 2\n",
      "points [] nodeposition [48.0, 48.0]size 2\n",
      "points [0, 3] nodeposition [16.0, 16.0]size 2\n",
      "points [] nodeposition [48.0, 16.0]size 2\n",
      "points [] nodeposition [8.0, 24.0]size 3\n",
      "points [3] nodeposition [24.0, 24.0]size 3\n",
      "points [0] nodeposition [8.0, 8.0]size 3\n",
      "points [] nodeposition [24.0, 8.0]size 3\n"
     ]
    }
   ],
   "source": [
    "import numpy as np\n",
    "from core import initialize_bodies\n",
    "from quadtree import Node\n",
    "from quadtree import Quadtree\n",
    "import matplotlib.pyplot as plt\n",
    "import matplotlib.patches as patches\n",
    "\n",
    "# initialize bodies with random masses, positions, and velocities over set range\n",
    "# bodies[n] = Body(mass, position [x, y], velocity [vx, vy])\n",
    "bodies = initialize_bodies(5, mass_range = [1, 10], position_range = [-32, 32], velocity_range = [-5, 5])\n",
    "positions = [body.position for body in bodies]\n",
    "print(positions)\n",
    "# printing sample values\n",
    "# print(bodies[0].mass)\n",
    "# print(bodies[0].position)\n",
    "# print(bodies[0].velocity)\n",
    "# print(len(bodies))\n",
    "\n",
    "# last resort below. Had to format it like this bc I had no idea how to utilize it otherwise. feel free to make it work with the class itself\n",
    "# formatbodies = [[body.mass for body in bodies], [[body.position[0] for body in bodies], [body.position[1] for body in bodies]], [body.velocity for body in bodies]]\n",
    "\n",
    "# print([body.position for body in bodies])\n",
    "\n",
    "QuadTest = Quadtree(bodies, 64)\n",
    "\n",
    "\n",
    "for i in range(len(QuadTest.nodelist)):\n",
    "    print( 'points ' + str(QuadTest.nodelist[i].points) + ' nodeposition ' +str(QuadTest.nodelist[i].nodeposition) + 'size ' +str(QuadTest.nodelist[i].size) )"
   ]
  },
  {
   "cell_type": "code",
   "execution_count": 2,
   "metadata": {},
   "outputs": [
    {
     "data": {
      "image/png": "[encoded data removed]",
      "text/plain": [
       "<Figure size 640x480 with 1 Axes>"
      ]
     },
     "metadata": {},
     "output_type": "display_data"
    }
   ],
   "source": [
    "# Example animation using matplotlib\n",
    "\n",
    "# %matplotlib widget\n",
    "\n",
    "# Time step for position updates\n",
    "dt = 0.1\n",
    "\n",
    "# Set up the plot\n",
    "fig, ax = plt.subplots()\n",
    "ax.set_xlim(-32, 32) # X-axis limits\n",
    "ax.set_ylim(-32, 32) # Y-axis limits\n",
    "ax.set_title(\"Particle Simulation\", color=\"black\")  # Title\n",
    "ax.set_xlabel(\"X Position\", color=\"black\")  # X-axis label\n",
    "ax.set_ylabel(\"Y Position\", color=\"black\")  # Y-axis label\n",
    "ax.tick_params(axis='x', colors=\"black\")  # X-axis ticks\n",
    "ax.tick_params(axis='y', colors=\"black\")  # Y-axis ticks\n",
    "ax.set_facecolor(\"white\")  # Set background color\n",
    "fig.patch.set_facecolor(\"lightgray\")  # Outside the plot\n",
    "\n",
    "# Create scatter plot with initial positions\n",
    "scat = ax.scatter(\n",
    "    [body.position[0] for body in bodies], # Initial x-coordinate of bodies\n",
    "    [body.position[1] for body in bodies], # Initial y-coordinate of bodies\n",
    "    s=[body.mass * 10 for body in bodies], # Size of bodies proportional to mass\n",
    "    c=\"black\",  # Color of bodies\n",
    ")\n",
    "\n",
    "pos1 = []\n",
    "pos2 = []\n",
    "for i in range(len(QuadTest.nodelist)):\n",
    "    pos1.append(QuadTest.nodelist[i].nodeposition[0])\n",
    "    pos2.append(QuadTest.nodelist[i].nodeposition[1])\n",
    "\n",
    "scat2 = ax.scatter(pos1, pos2, c='blue')\n",
    "\n",
    "for i in range(len(QuadTest.nodelist)):\n",
    "    formatcoords = [QuadTest.nodelist[i].nodeposition[0]-(64/2**(QuadTest.nodelist[i].size)), QuadTest.nodelist[i].nodeposition[1]-(64/2**(QuadTest.nodelist[i].size))]\n",
    "    \n",
    "    Rect = patches.Rectangle(formatcoords, (64/2**(QuadTest.nodelist[i].size)), (64/2**(QuadTest.nodelist[i].size)), ec = 'black', fill =False)\n",
    "    plt.gca().add_patch(Rect)\n",
    "# Update function for animation\n",
    "# def update_position(frame):\n",
    "\n",
    "#     updated_positions = [] # Initialize as a list\n",
    "\n",
    "#     for body in bodies:\n",
    "#         body.position += body.velocity * dt  # Update positions\n",
    "#         updated_positions.append(body.position)  # Collect new positions\n",
    "#     scat.set_offsets(updated_positions)  # Update scatter plot\n",
    "    \n",
    "#     return scat\n",
    "\n",
    "# # Create the animation\n",
    "# ani = animation.FuncAnimation(\n",
    "#     fig=fig,\n",
    "#     func=update_position,\n",
    "#     frames=range(50),  # Number of frames\n",
    "#     interval=50,  # Time between frames in milliseconds\n",
    "#     repeat=False,  # Stop after the last frame\n",
    "# )\n",
    "\n",
    "# # Show the plot\n",
    "plt.show()"
   ]
  },
  {
   "cell_type": "code",
   "execution_count": 3,
   "metadata": {},
   "outputs": [],
   "source": [
    "# import numpy as np\n",
    "# from quadtree import Node\n",
    "# from quadtree import Quadtree\n",
    "\n",
    "\n",
    "\n",
    "# # Testing Quadtree\n"
   ]
  },
  {
   "cell_type": "code",
   "execution_count": null,
   "metadata": {},
   "outputs": [],
   "source": []
  }
 ],
 "metadata": {
  "kernelspec": {
   "display_name": "Python 3",
   "language": "python",
   "name": "python3"
  },
  "language_info": {
   "codemirror_mode": {
    "name": "ipython",
    "version": 3
   },
   "file_extension": ".py",
   "mimetype": "text/x-python",
   "name": "python",
   "nbconvert_exporter": "python",
   "pygments_lexer": "ipython3",
   "version": "3.11.9"
  }
 },
 "nbformat": 4,
 "nbformat_minor": 2
}
