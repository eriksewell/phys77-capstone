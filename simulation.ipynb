{
 "cells": [
  {
   "cell_type": "code",
   "execution_count": 3,
   "metadata": {},
   "outputs": [],
   "source": [
    "from core import initialize_bodies\n",
    "import numpy as np"
   ]
  },
  {
   "cell_type": "code",
   "execution_count": 2,
   "metadata": {},
   "outputs": [
    {
     "name": "stdout",
     "output_type": "stream",
     "text": [
      "6.720859090967878\n",
      "[-19.66146369   1.84198915]\n",
      "[3.93846504 1.59208957]\n",
      "5\n"
     ]
    }
   ],
   "source": [
    "# initialize bodies with random masses, positions, and velocities over set range\n",
    "# bodies[n] = Body(mass, position [x, y], velocity [vx, vy])\n",
    "bodies = initialize_bodies(5, mass_range = [1, 10], position_range = [-25, 25], velocity_range = [-5, 5])\n",
    "\n",
    "# printing sample values\n",
    "print(bodies[0].mass)\n",
    "print(bodies[0].position)\n",
    "print(bodies[0].velocity)\n",
    "print(len(bodies))"
   ]
  },
  {
   "cell_type": "code",
   "execution_count": null,
   "metadata": {},
   "outputs": [],
   "source": []
  }
 ],
 "metadata": {
  "kernelspec": {
   "display_name": "Python 3",
   "language": "python",
   "name": "python3"
  },
  "language_info": {
   "codemirror_mode": {
    "name": "ipython",
    "version": 3
   },
   "file_extension": ".py",
   "mimetype": "text/x-python",
   "name": "python",
   "nbconvert_exporter": "python",
   "pygments_lexer": "ipython3",
   "version": "3.10.12"
  }
 },
 "nbformat": 4,
 "nbformat_minor": 2
}
